{
 "cells": [
  {
   "cell_type": "code",
   "execution_count": 13,
   "metadata": {},
   "outputs": [],
   "source": [
    "import numpy as np"
   ]
  },
  {
   "cell_type": "code",
   "execution_count": 14,
   "metadata": {},
   "outputs": [],
   "source": [
    "def funcionF(v, m):\n",
    "    \n",
    "    solucion = [None] * len(m)\n",
    "\n",
    "    tiempo = [0] * len(m[0])\n",
    "    \n",
    "    for x in v:\n",
    "        for i in range(len(m[0])):\n",
    "            if i > 0:\n",
    "                if (tiempo[i-1] + m[x][i]) < (tiempo[i] + m[x][i]):\n",
    "                    tiempo[i] = tiempo[i] + m[x][i]\n",
    "                else:\n",
    "                    tiempo[i] = tiempo[i-1] + m[x][i]\n",
    "            else:\n",
    "                tiempo[i] = tiempo[i] + m[x][i]\n",
    "            \n",
    "\n",
    "        solucion[x] = tiempo.copy()\n",
    "            \n",
    "    return solucion\n"
   ]
  },
  {
   "cell_type": "code",
   "execution_count": 15,
   "metadata": {},
   "outputs": [],
   "source": [
    "def evaluar (matriz,vector):\n",
    "    tiempo = matriz[vector[-1]][-1]\n",
    "    return tiempo"
   ]
  },
  {
   "cell_type": "code",
   "execution_count": 19,
   "metadata": {},
   "outputs": [],
   "source": [
    "def primerMejor (tam,matriz,solAnt=None, tm=None):\n",
    "    solucion = [0]*tam\n",
    "    mejor =  [0]*tam\n",
    "    if solAnt is not None:\n",
    "        solucion = solAnt\n",
    "        actual = solAnt    \n",
    "        t_mejor = tm\n",
    "        \n",
    "    else:\n",
    "        actual =  [0]*tam #optimizar\n",
    "        actual = range(tam)\n",
    "        actual = np.random.permutation(actual)\n",
    "        t_mejor = evaluar (funcionF(actual,matriz),actual)\n",
    "       \n",
    "    mejor = actual\n",
    "    for i in range (0,len(actual)-1):\n",
    "        for j in range (0,len(actual)-1):\n",
    "            if j is not i:\n",
    "                temp = actual[i]\n",
    "                actual[i]=actual[j]\n",
    "                actual[j]=temp\n",
    "                t_actual = evaluar (funcionF(actual,matriz),actual)\n",
    "                if t_actual < t_mejor:\n",
    "                  \n",
    "                    t_mejor = t_actual\n",
    "                    mejor = actual\n",
    "                    \n",
    "                    solucion = mejor\n",
    "    \n",
    "\n",
    "    return solucion,t_mejor"
   ]
  },
  {
   "cell_type": "code",
   "execution_count": 24,
   "metadata": {},
   "outputs": [],
   "source": [
    "def recuece(tam,matriz,solAnt=None):\n",
    "    t_min = 0.13\n",
    "    t = 10000\n",
    "    alfa = 0.854\n",
    "    if solAnt is not None:\n",
    "        actual = solAnt\n",
    "    else:\n",
    "        actual = range(tam)\n",
    "        actual = np.random.permutation(actual)\n",
    "    \n",
    "    mejor = actual\n",
    "    t_mejor = evaluar (funcionF(actual,matriz),actual)\n",
    "    while t > t_min:\n",
    "        for i in range (1,len(actual)):\n",
    "            t_actual = evaluar (funcionF(actual,matriz),actual)\n",
    "            candidato = np.random.permutation(actual)\n",
    "            t_candidato = evaluar (funcionF(candidato,matriz),candidato)\n",
    "            delta = t_candidato -t_actual\n",
    "            aleatorio = np.random.rand()\n",
    "            if (aleatorio < np.e**((-delta)/t)) or (delta < 0):\n",
    "                actual = candidato\n",
    "                t_actual = evaluar (funcionF(actual,matriz),actual)\n",
    "            if t_actual < t_mejor:\n",
    "                mejor = actual\n",
    "                t_mejor = t_actual    \n",
    "        t = alfa*t \n",
    "    \n",
    "    solucion = mejor\n",
    "    sol,t = primerMejor(tam,matriz,solucion,t_mejor)\n",
    "    #solFinal, tFinal = recuece(tam,matriz,sol)\n",
    "    return sol, t\n"
   ]
  },
  {
   "cell_type": "code",
   "execution_count": 28,
   "metadata": {
    "scrolled": false
   },
   "outputs": [
    {
     "name": "stdout",
     "output_type": "stream",
     "text": [
      "********************************\n",
      "***            OPT           ***\n",
      "***           CONTEST        ***\n",
      "********************************\n",
      "\n",
      "Pulse cualquier tecla para continuar\n",
      "\n",
      "[68 19 23 25 60  8  9 36 16 57 65 69 47 18 44 27 63 42 11 45 35 21 10 54\n",
      " 37 41 49 31  4  2 67 32 62 50  3 74  6 43 56 61 46 39 15  5 73  7 13 71\n",
      " 24  1 40 66 53 34 12 72  0 70 33 55 59 14 52 38 28 17 20 22 64 51 29 30\n",
      " 58 48 26]\n",
      "5837\n"
     ]
    }
   ],
   "source": [
    "\n",
    "\n",
    "# -*- coding: utf-8 -*-\n",
    "\"\"\"\n",
    "\n",
    "@author: David Cacho Saiz\n",
    "@author: Fernando Antón Ortega\n",
    "\"\"\"\n",
    "\n",
    "\n",
    "print (\"********************************\")\n",
    "print (\"***            OPT           ***\")\n",
    "print (\"***           CONTEST        ***\")\n",
    "print (\"********************************\")\n",
    "print (\"\")\n",
    "fichero = (\"COSAS DEL OPTCONTEST/FlowShopPermutacional/d/Doc11.txt\")\n",
    "matriz = []\n",
    "\n",
    "fich = open (fichero, \"r\")\n",
    "oym = fich.readline().strip().split()\n",
    "\n",
    "ordenes = oym[0]\n",
    "maquinas = oym[1]\n",
    "\n",
    "matriz = np.genfromtxt(fich, int)\n",
    "matriz = np.delete(matriz, np.s_[::2], 1)\n",
    "fich.close()\n",
    "\n",
    "\n",
    "print (\"Pulse cualquier tecla para continuar\")\n",
    "input()\n",
    "sol,tiempo =recuece(len(matriz), matriz)\n",
    "print (sol)\n",
    "print (tiempo)\n",
    "\n"
   ]
  },
  {
   "cell_type": "code",
   "execution_count": null,
   "metadata": {},
   "outputs": [],
   "source": []
  },
  {
   "cell_type": "code",
   "execution_count": null,
   "metadata": {},
   "outputs": [],
   "source": []
  },
  {
   "cell_type": "code",
   "execution_count": null,
   "metadata": {},
   "outputs": [],
   "source": []
  },
  {
   "cell_type": "code",
   "execution_count": null,
   "metadata": {},
   "outputs": [],
   "source": []
  }
 ],
 "metadata": {
  "kernelspec": {
   "display_name": "Python 3",
   "language": "python",
   "name": "python3"
  },
  "language_info": {
   "codemirror_mode": {
    "name": "ipython",
    "version": 3
   },
   "file_extension": ".py",
   "mimetype": "text/x-python",
   "name": "python",
   "nbconvert_exporter": "python",
   "pygments_lexer": "ipython3",
   "version": "3.7.4"
  }
 },
 "nbformat": 4,
 "nbformat_minor": 2
}
